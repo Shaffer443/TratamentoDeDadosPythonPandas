{
  "nbformat": 4,
  "nbformat_minor": 0,
  "metadata": {
    "colab": {
      "provenance": []
    },
    "kernelspec": {
      "name": "python3",
      "display_name": "Python 3"
    },
    "language_info": {
      "name": "python"
    }
  },
  "cells": [
    {
      "cell_type": "markdown",
      "source": [
        "Exercicios e estudos do livro **Tratamento de Dados com Python + Pandas**"
      ],
      "metadata": {
        "id": "lBk8eTpu1gjc"
      }
    },
    {
      "cell_type": "code",
      "execution_count": 4,
      "metadata": {
        "id": "bC_Nppoj1GXs"
      },
      "outputs": [],
      "source": [
        "import pandas as pd\n",
        "import numpy as np"
      ]
    },
    {
      "cell_type": "markdown",
      "source": [
        "No exemplo, inicialmente temos uma variável de nome indice que recebe como atributo uma lista com alguns números ordenados.\n",
        "\n",
        "Alé de temos uma variável de nome _nomes_ que recebe como atributo uma lista composta de alguns números ordenados\n",
        "\n",
        "no _data1_, é uma variável que instância e inicializa a função _pd.Series()_"
      ],
      "metadata": {
        "id": "UVdk0lTV224J"
      }
    },
    {
      "cell_type": "code",
      "source": [
        "# Definindo um índice personalizado\n",
        "\n",
        "indice = [1,2,3,4,5,6]\n",
        "nomes=['Barney', 'Pollyana', 'Rafael', 'Naruto', 'Tolkien', 'Sérgio']\n",
        "\n",
        "dados1=pd.Series(data = nomes, index=indice)\n",
        "\n",
        "dados1"
      ],
      "metadata": {
        "colab": {
          "base_uri": "https://localhost:8080/"
        },
        "id": "zDpriiUn10Y5",
        "outputId": "0e3a62a9-a122-4b06-b07e-6e5560d4fa24"
      },
      "execution_count": 3,
      "outputs": [
        {
          "output_type": "stream",
          "name": "stdout",
          "text": [
            "1      Barney\n",
            "2    Pollyana\n",
            "3      Rafael\n",
            "4      Naruto\n",
            "5     Tolkien\n",
            "6      Sérgio\n",
            "dtype: object\n"
          ]
        }
      ]
    },
    {
      "cell_type": "markdown",
      "source": [
        "**Integrando uma Array Numpy em uma Serie**"
      ],
      "metadata": {
        "id": "xrAUsxn84LQw"
      }
    },
    {
      "cell_type": "code",
      "source": [
        "# Gerando um array por meio da biblioteca Numpy e Pandas\n",
        "\n",
        "nomes = np.array(['Barney', 'Pollyana', 'Rafael', 'Naruto', 'Tolkien', 'Sérgio'])\n",
        "\n",
        "dados2 = pd.Series(data = nomes)\n",
        "\n",
        "dados2"
      ],
      "metadata": {
        "colab": {
          "base_uri": "https://localhost:8080/"
        },
        "id": "AmgU6KKT4UNl",
        "outputId": "66c3e52f-2974-4ac1-b457-a92a497dcdee"
      },
      "execution_count": 5,
      "outputs": [
        {
          "output_type": "execute_result",
          "data": {
            "text/plain": [
              "0      Barney\n",
              "1    Pollyana\n",
              "2      Rafael\n",
              "3      Naruto\n",
              "4     Tolkien\n",
              "5      Sérgio\n",
              "dtype: object"
            ]
          },
          "metadata": {},
          "execution_count": 5
        }
      ]
    },
    {
      "cell_type": "markdown",
      "source": [
        "**np.arange()**, irá gerar valores ordenados de 0 até 5, a serem utilizados como índice"
      ],
      "metadata": {
        "id": "6QEunwj0_apa"
      }
    },
    {
      "cell_type": "code",
      "source": [
        "# Integrando funções com Séries\n",
        "\n",
        "paises = ['Brasil', 'Argentina', 'Canadá', 'França', 'Itália', 'Noruega']\n",
        "\n",
        "dados3 = pd.Series (data = paises, index= np.arange(0,6))\n",
        "\n",
        "dados3"
      ],
      "metadata": {
        "colab": {
          "base_uri": "https://localhost:8080/"
        },
        "id": "EvUVW01X-bYv",
        "outputId": "9f6aef9f-7b45-42cc-983d-c9cb6ffd3d18"
      },
      "execution_count": 6,
      "outputs": [
        {
          "output_type": "execute_result",
          "data": {
            "text/plain": [
              "0       Brasil\n",
              "1    Argentina\n",
              "2       Canadá\n",
              "3       França\n",
              "4       Itália\n",
              "5      Noruega\n",
              "dtype: object"
            ]
          },
          "metadata": {},
          "execution_count": 6
        }
      ]
    },
    {
      "cell_type": "markdown",
      "source": [
        "**Verificando o tamanho de uma Serie**"
      ],
      "metadata": {
        "id": "maC6R_hA_6Yb"
      }
    },
    {
      "cell_type": "markdown",
      "source": [
        "O importante aqui é entender que, ao inspecionar o tamanho de uma Serie ou DataFrame, apenas teremos um resultado útil quando tais estruturas de dados possuírem um índice nativo. \n",
        "\n",
        "Uma arrey foi feito através do np.array (dados2) e o outro pelo np.arange() (dados3)"
      ],
      "metadata": {
        "id": "G38EKta4BHw_"
      }
    },
    {
      "cell_type": "code",
      "source": [
        "print(dados2.index)\n",
        "\n",
        "#ou\n",
        "\n",
        "dados3.index"
      ],
      "metadata": {
        "colab": {
          "base_uri": "https://localhost:8080/"
        },
        "id": "mBXqGzK1_yHQ",
        "outputId": "497dcc55-b9de-41ef-9b13-98c67f2056ea"
      },
      "execution_count": 10,
      "outputs": [
        {
          "output_type": "stream",
          "name": "stdout",
          "text": [
            "RangeIndex(start=0, stop=6, step=1)\n"
          ]
        },
        {
          "output_type": "execute_result",
          "data": {
            "text/plain": [
              "Int64Index([0, 1, 2, 3, 4, 5], dtype='int64')"
            ]
          },
          "metadata": {},
          "execution_count": 10
        }
      ]
    }
  ]
}